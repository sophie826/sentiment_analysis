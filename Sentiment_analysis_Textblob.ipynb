{
  "nbformat": 4,
  "nbformat_minor": 0,
  "metadata": {
    "colab": {
      "provenance": [],
      "authorship_tag": "ABX9TyNRcf1zxV96wjsobe1m777B",
      "include_colab_link": true
    },
    "kernelspec": {
      "name": "python3",
      "display_name": "Python 3"
    },
    "language_info": {
      "name": "python"
    }
  },
  "cells": [
    {
      "cell_type": "markdown",
      "metadata": {
        "id": "view-in-github",
        "colab_type": "text"
      },
      "source": [
        "<a href=\"https://colab.research.google.com/github/sophie826/sentiment_analysis/blob/main/Sentiment_analysis_Textblob.ipynb\" target=\"_parent\"><img src=\"https://colab.research.google.com/assets/colab-badge.svg\" alt=\"Open In Colab\"/></a>"
      ]
    },
    {
      "cell_type": "markdown",
      "source": [
        "Import necessary libraries"
      ],
      "metadata": {
        "id": "UjKEU1qfcf5P"
      }
    },
    {
      "cell_type": "code",
      "execution_count": 2,
      "metadata": {
        "id": "-y2AKP5UcRW0"
      },
      "outputs": [],
      "source": [
        "import pandas as pd\n",
        "import numpy as np\n",
        "from textblob import TextBlob, Word"
      ]
    },
    {
      "cell_type": "markdown",
      "source": [
        "Test with book review data"
      ],
      "metadata": {
        "id": "12hRV0-YcqBa"
      }
    },
    {
      "cell_type": "code",
      "source": [
        "#import the book review data\n",
        "test_file=\"book-review-sentiment.txt\"\n",
        "\n",
        "#build function to perform sentiment analysis\n",
        "def analyze_sentiment(text):\n",
        "  analysis=TextBlob(text)\n",
        "  if analysis.sentiment.polarity>0:\n",
        "    return \"Positive\"\n",
        "  elif analysis.sentiment.polarity<0:\n",
        "    return \"Negative\"\n",
        "  else:\n",
        "    return \"Neutral\"\n",
        "\n",
        "#perform sentiment analysis\n",
        "sentiment_score=TextBlob(test_file).sentiment\n",
        "sentiment=analyze_sentiment(test_file)\n",
        "\n",
        "#print the results\n",
        "print(f\"Sentiment scores: {sentiment_score}\")\n",
        "print(f\"Sentiment analysis Result: {sentiment}\")"
      ],
      "metadata": {
        "colab": {
          "base_uri": "https://localhost:8080/"
        },
        "id": "y6MrF2Dec2Ek",
        "outputId": "bd5fc279-0468-4ce6-f04a-26cf2f91ea7c"
      },
      "execution_count": 3,
      "outputs": [
        {
          "output_type": "stream",
          "name": "stdout",
          "text": [
            "Sentiment scores: Sentiment(polarity=0.0, subjectivity=0.0)\n",
            "Sentiment analysis Result: Neutral\n"
          ]
        }
      ]
    },
    {
      "cell_type": "markdown",
      "source": [
        "Sentiment analysis of large dataset - Twitter product review data"
      ],
      "metadata": {
        "id": "wxMCT-regUt5"
      }
    },
    {
      "cell_type": "code",
      "source": [
        "import seaborn as sns\n",
        "import matplotlib.pyplot as plt\n",
        "import csv\n",
        "import nltk\n",
        "nltk.download('stopwords')\n",
        "nltk.download('wordnet')\n",
        "from sklearn.feature_extraction.text import CountVectorizer\n",
        "from sklearn.feature_extraction.text import TfidfVectorizer\n",
        "from sklearn.preprocessing import LabelBinarizer\n",
        "from nltk.corpus import stopwords\n",
        "from nltk.stem.porter import PorterStemmer\n",
        "from wordcloud import WordCloud,STOPWORDS\n",
        "from nltk.stem import WordNetLemmatizer\n",
        "from nltk.tokenize import word_tokenize,sent_tokenize\n",
        "from bs4 import BeautifulSoup\n",
        "import spacy\n",
        "import re,string,unicodedata\n",
        "from nltk.tokenize.toktok import ToktokTokenizer\n",
        "from nltk.corpus.reader.twitter import TweetTokenizer\n",
        "from nltk.stem import LancasterStemmer,WordNetLemmatizer\n",
        "from nltk.corpus import stopwords\n",
        "from sklearn.linear_model import LogisticRegression,SGDClassifier\n",
        "from sklearn.naive_bayes import MultinomialNB\n",
        "from sklearn.svm import SVC\n",
        "from sklearn.metrics import classification_report,confusion_matrix,accuracy_score\n",
        "from collections import Counter\n",
        "from wordcloud import WordCloud"
      ],
      "metadata": {
        "colab": {
          "base_uri": "https://localhost:8080/"
        },
        "id": "MSSFoPkJgg2e",
        "outputId": "5d10a8a7-9019-4dbc-b87f-8575db2f8d62"
      },
      "execution_count": 17,
      "outputs": [
        {
          "output_type": "stream",
          "name": "stderr",
          "text": [
            "[nltk_data] Downloading package stopwords to /root/nltk_data...\n",
            "[nltk_data]   Package stopwords is already up-to-date!\n",
            "[nltk_data] Downloading package wordnet to /root/nltk_data...\n",
            "[nltk_data]   Package wordnet is already up-to-date!\n"
          ]
        }
      ]
    },
    {
      "cell_type": "code",
      "source": [
        "#import twitter dataset\n",
        "twitter_data=pd.read_csv(\"twitter-product-review.csv\")\n",
        "print(twitter_data.shape)\n",
        "twitter_data.head(10)"
      ],
      "metadata": {
        "colab": {
          "base_uri": "https://localhost:8080/",
          "height": 380
        },
        "id": "UN73iuKOhHI5",
        "outputId": "330068e0-2076-43d4-f32a-4912db759681"
      },
      "execution_count": 5,
      "outputs": [
        {
          "output_type": "stream",
          "name": "stdout",
          "text": [
            "(9873, 2)\n"
          ]
        },
        {
          "output_type": "execute_result",
          "data": {
            "text/plain": [
              "   id                                              tweet\n",
              "0   1  #fingerprint #Pregnancy Test https://goo.gl/h1...\n",
              "1   2  Finally a transparant silicon case ^^ Thanks t...\n",
              "2   3  We love this! Would you go? #talk #makememorie...\n",
              "3   4  I'm wired I know I'm George I was made that wa...\n",
              "4   5  What amazing service! Apple won't even talk to...\n",
              "5   6  iPhone software update fucked up my phone big ...\n",
              "6   7  Happy for us .. #instapic #instadaily #us #son...\n",
              "7   8  New Type C charger cable #UK http://www.ebay.c...\n",
              "8   9  Bout to go shopping again listening to music #...\n",
              "9  10  Photo: #fun #selfie #pool #water #sony #camera..."
            ],
            "text/html": [
              "\n",
              "  <div id=\"df-6928d189-118a-4356-aa8d-9bb0958fdcf8\" class=\"colab-df-container\">\n",
              "    <div>\n",
              "<style scoped>\n",
              "    .dataframe tbody tr th:only-of-type {\n",
              "        vertical-align: middle;\n",
              "    }\n",
              "\n",
              "    .dataframe tbody tr th {\n",
              "        vertical-align: top;\n",
              "    }\n",
              "\n",
              "    .dataframe thead th {\n",
              "        text-align: right;\n",
              "    }\n",
              "</style>\n",
              "<table border=\"1\" class=\"dataframe\">\n",
              "  <thead>\n",
              "    <tr style=\"text-align: right;\">\n",
              "      <th></th>\n",
              "      <th>id</th>\n",
              "      <th>tweet</th>\n",
              "    </tr>\n",
              "  </thead>\n",
              "  <tbody>\n",
              "    <tr>\n",
              "      <th>0</th>\n",
              "      <td>1</td>\n",
              "      <td>#fingerprint #Pregnancy Test https://goo.gl/h1...</td>\n",
              "    </tr>\n",
              "    <tr>\n",
              "      <th>1</th>\n",
              "      <td>2</td>\n",
              "      <td>Finally a transparant silicon case ^^ Thanks t...</td>\n",
              "    </tr>\n",
              "    <tr>\n",
              "      <th>2</th>\n",
              "      <td>3</td>\n",
              "      <td>We love this! Would you go? #talk #makememorie...</td>\n",
              "    </tr>\n",
              "    <tr>\n",
              "      <th>3</th>\n",
              "      <td>4</td>\n",
              "      <td>I'm wired I know I'm George I was made that wa...</td>\n",
              "    </tr>\n",
              "    <tr>\n",
              "      <th>4</th>\n",
              "      <td>5</td>\n",
              "      <td>What amazing service! Apple won't even talk to...</td>\n",
              "    </tr>\n",
              "    <tr>\n",
              "      <th>5</th>\n",
              "      <td>6</td>\n",
              "      <td>iPhone software update fucked up my phone big ...</td>\n",
              "    </tr>\n",
              "    <tr>\n",
              "      <th>6</th>\n",
              "      <td>7</td>\n",
              "      <td>Happy for us .. #instapic #instadaily #us #son...</td>\n",
              "    </tr>\n",
              "    <tr>\n",
              "      <th>7</th>\n",
              "      <td>8</td>\n",
              "      <td>New Type C charger cable #UK http://www.ebay.c...</td>\n",
              "    </tr>\n",
              "    <tr>\n",
              "      <th>8</th>\n",
              "      <td>9</td>\n",
              "      <td>Bout to go shopping again listening to music #...</td>\n",
              "    </tr>\n",
              "    <tr>\n",
              "      <th>9</th>\n",
              "      <td>10</td>\n",
              "      <td>Photo: #fun #selfie #pool #water #sony #camera...</td>\n",
              "    </tr>\n",
              "  </tbody>\n",
              "</table>\n",
              "</div>\n",
              "    <div class=\"colab-df-buttons\">\n",
              "\n",
              "  <div class=\"colab-df-container\">\n",
              "    <button class=\"colab-df-convert\" onclick=\"convertToInteractive('df-6928d189-118a-4356-aa8d-9bb0958fdcf8')\"\n",
              "            title=\"Convert this dataframe to an interactive table.\"\n",
              "            style=\"display:none;\">\n",
              "\n",
              "  <svg xmlns=\"http://www.w3.org/2000/svg\" height=\"24px\" viewBox=\"0 -960 960 960\">\n",
              "    <path d=\"M120-120v-720h720v720H120Zm60-500h600v-160H180v160Zm220 220h160v-160H400v160Zm0 220h160v-160H400v160ZM180-400h160v-160H180v160Zm440 0h160v-160H620v160ZM180-180h160v-160H180v160Zm440 0h160v-160H620v160Z\"/>\n",
              "  </svg>\n",
              "    </button>\n",
              "\n",
              "  <style>\n",
              "    .colab-df-container {\n",
              "      display:flex;\n",
              "      gap: 12px;\n",
              "    }\n",
              "\n",
              "    .colab-df-convert {\n",
              "      background-color: #E8F0FE;\n",
              "      border: none;\n",
              "      border-radius: 50%;\n",
              "      cursor: pointer;\n",
              "      display: none;\n",
              "      fill: #1967D2;\n",
              "      height: 32px;\n",
              "      padding: 0 0 0 0;\n",
              "      width: 32px;\n",
              "    }\n",
              "\n",
              "    .colab-df-convert:hover {\n",
              "      background-color: #E2EBFA;\n",
              "      box-shadow: 0px 1px 2px rgba(60, 64, 67, 0.3), 0px 1px 3px 1px rgba(60, 64, 67, 0.15);\n",
              "      fill: #174EA6;\n",
              "    }\n",
              "\n",
              "    .colab-df-buttons div {\n",
              "      margin-bottom: 4px;\n",
              "    }\n",
              "\n",
              "    [theme=dark] .colab-df-convert {\n",
              "      background-color: #3B4455;\n",
              "      fill: #D2E3FC;\n",
              "    }\n",
              "\n",
              "    [theme=dark] .colab-df-convert:hover {\n",
              "      background-color: #434B5C;\n",
              "      box-shadow: 0px 1px 3px 1px rgba(0, 0, 0, 0.15);\n",
              "      filter: drop-shadow(0px 1px 2px rgba(0, 0, 0, 0.3));\n",
              "      fill: #FFFFFF;\n",
              "    }\n",
              "  </style>\n",
              "\n",
              "    <script>\n",
              "      const buttonEl =\n",
              "        document.querySelector('#df-6928d189-118a-4356-aa8d-9bb0958fdcf8 button.colab-df-convert');\n",
              "      buttonEl.style.display =\n",
              "        google.colab.kernel.accessAllowed ? 'block' : 'none';\n",
              "\n",
              "      async function convertToInteractive(key) {\n",
              "        const element = document.querySelector('#df-6928d189-118a-4356-aa8d-9bb0958fdcf8');\n",
              "        const dataTable =\n",
              "          await google.colab.kernel.invokeFunction('convertToInteractive',\n",
              "                                                    [key], {});\n",
              "        if (!dataTable) return;\n",
              "\n",
              "        const docLinkHtml = 'Like what you see? Visit the ' +\n",
              "          '<a target=\"_blank\" href=https://colab.research.google.com/notebooks/data_table.ipynb>data table notebook</a>'\n",
              "          + ' to learn more about interactive tables.';\n",
              "        element.innerHTML = '';\n",
              "        dataTable['output_type'] = 'display_data';\n",
              "        await google.colab.output.renderOutput(dataTable, element);\n",
              "        const docLink = document.createElement('div');\n",
              "        docLink.innerHTML = docLinkHtml;\n",
              "        element.appendChild(docLink);\n",
              "      }\n",
              "    </script>\n",
              "  </div>\n",
              "\n",
              "\n",
              "<div id=\"df-af02cbfa-deec-426a-a85e-a130ff1bb0d0\">\n",
              "  <button class=\"colab-df-quickchart\" onclick=\"quickchart('df-af02cbfa-deec-426a-a85e-a130ff1bb0d0')\"\n",
              "            title=\"Suggest charts.\"\n",
              "            style=\"display:none;\">\n",
              "\n",
              "<svg xmlns=\"http://www.w3.org/2000/svg\" height=\"24px\"viewBox=\"0 0 24 24\"\n",
              "     width=\"24px\">\n",
              "    <g>\n",
              "        <path d=\"M19 3H5c-1.1 0-2 .9-2 2v14c0 1.1.9 2 2 2h14c1.1 0 2-.9 2-2V5c0-1.1-.9-2-2-2zM9 17H7v-7h2v7zm4 0h-2V7h2v10zm4 0h-2v-4h2v4z\"/>\n",
              "    </g>\n",
              "</svg>\n",
              "  </button>\n",
              "\n",
              "<style>\n",
              "  .colab-df-quickchart {\n",
              "      --bg-color: #E8F0FE;\n",
              "      --fill-color: #1967D2;\n",
              "      --hover-bg-color: #E2EBFA;\n",
              "      --hover-fill-color: #174EA6;\n",
              "      --disabled-fill-color: #AAA;\n",
              "      --disabled-bg-color: #DDD;\n",
              "  }\n",
              "\n",
              "  [theme=dark] .colab-df-quickchart {\n",
              "      --bg-color: #3B4455;\n",
              "      --fill-color: #D2E3FC;\n",
              "      --hover-bg-color: #434B5C;\n",
              "      --hover-fill-color: #FFFFFF;\n",
              "      --disabled-bg-color: #3B4455;\n",
              "      --disabled-fill-color: #666;\n",
              "  }\n",
              "\n",
              "  .colab-df-quickchart {\n",
              "    background-color: var(--bg-color);\n",
              "    border: none;\n",
              "    border-radius: 50%;\n",
              "    cursor: pointer;\n",
              "    display: none;\n",
              "    fill: var(--fill-color);\n",
              "    height: 32px;\n",
              "    padding: 0;\n",
              "    width: 32px;\n",
              "  }\n",
              "\n",
              "  .colab-df-quickchart:hover {\n",
              "    background-color: var(--hover-bg-color);\n",
              "    box-shadow: 0 1px 2px rgba(60, 64, 67, 0.3), 0 1px 3px 1px rgba(60, 64, 67, 0.15);\n",
              "    fill: var(--button-hover-fill-color);\n",
              "  }\n",
              "\n",
              "  .colab-df-quickchart-complete:disabled,\n",
              "  .colab-df-quickchart-complete:disabled:hover {\n",
              "    background-color: var(--disabled-bg-color);\n",
              "    fill: var(--disabled-fill-color);\n",
              "    box-shadow: none;\n",
              "  }\n",
              "\n",
              "  .colab-df-spinner {\n",
              "    border: 2px solid var(--fill-color);\n",
              "    border-color: transparent;\n",
              "    border-bottom-color: var(--fill-color);\n",
              "    animation:\n",
              "      spin 1s steps(1) infinite;\n",
              "  }\n",
              "\n",
              "  @keyframes spin {\n",
              "    0% {\n",
              "      border-color: transparent;\n",
              "      border-bottom-color: var(--fill-color);\n",
              "      border-left-color: var(--fill-color);\n",
              "    }\n",
              "    20% {\n",
              "      border-color: transparent;\n",
              "      border-left-color: var(--fill-color);\n",
              "      border-top-color: var(--fill-color);\n",
              "    }\n",
              "    30% {\n",
              "      border-color: transparent;\n",
              "      border-left-color: var(--fill-color);\n",
              "      border-top-color: var(--fill-color);\n",
              "      border-right-color: var(--fill-color);\n",
              "    }\n",
              "    40% {\n",
              "      border-color: transparent;\n",
              "      border-right-color: var(--fill-color);\n",
              "      border-top-color: var(--fill-color);\n",
              "    }\n",
              "    60% {\n",
              "      border-color: transparent;\n",
              "      border-right-color: var(--fill-color);\n",
              "    }\n",
              "    80% {\n",
              "      border-color: transparent;\n",
              "      border-right-color: var(--fill-color);\n",
              "      border-bottom-color: var(--fill-color);\n",
              "    }\n",
              "    90% {\n",
              "      border-color: transparent;\n",
              "      border-bottom-color: var(--fill-color);\n",
              "    }\n",
              "  }\n",
              "</style>\n",
              "\n",
              "  <script>\n",
              "    async function quickchart(key) {\n",
              "      const quickchartButtonEl =\n",
              "        document.querySelector('#' + key + ' button');\n",
              "      quickchartButtonEl.disabled = true;  // To prevent multiple clicks.\n",
              "      quickchartButtonEl.classList.add('colab-df-spinner');\n",
              "      try {\n",
              "        const charts = await google.colab.kernel.invokeFunction(\n",
              "            'suggestCharts', [key], {});\n",
              "      } catch (error) {\n",
              "        console.error('Error during call to suggestCharts:', error);\n",
              "      }\n",
              "      quickchartButtonEl.classList.remove('colab-df-spinner');\n",
              "      quickchartButtonEl.classList.add('colab-df-quickchart-complete');\n",
              "    }\n",
              "    (() => {\n",
              "      let quickchartButtonEl =\n",
              "        document.querySelector('#df-af02cbfa-deec-426a-a85e-a130ff1bb0d0 button');\n",
              "      quickchartButtonEl.style.display =\n",
              "        google.colab.kernel.accessAllowed ? 'block' : 'none';\n",
              "    })();\n",
              "  </script>\n",
              "</div>\n",
              "    </div>\n",
              "  </div>\n"
            ]
          },
          "metadata": {},
          "execution_count": 5
        }
      ]
    },
    {
      "cell_type": "markdown",
      "source": [
        "Text pre-processing"
      ],
      "metadata": {
        "id": "Z_AJnM2h1vQo"
      }
    },
    {
      "cell_type": "code",
      "source": [
        "#create function to preprocess tweet data\n",
        "def preprocess_tweet(tweet):\n",
        "  tweet=tweet.lower() #convert to lower case\n",
        "  tweet=re.sub(r'https?://\\S+|www\\.\\S+', '', tweet, flags=re.MULTILINE) # remove URLs\n",
        "  tweet=re.sub(r'@\\w+', '', tweet) #remove user mentions\n",
        "  tweet=re.sub(r'[^a-zA-Z\\s]', '', tweet) #remove special characters and numbers, keeping only letters\n",
        "  tweet=re.sub(r'#','',tweet)\n",
        "\n",
        "  tokenizer=TweetTokenizer()\n",
        "  tokens=tokenizer.tokenize(tweet) #tokenize the tweet\n",
        "\n",
        "  stop_words=set(stopwords.words('english')) #remove stop words\n",
        "  filtered_tokens=[token for token in tokens if token not in stop_words]\n",
        "\n",
        "  lemmatizer=WordNetLemmatizer() #lemmatization using WordNet\n",
        "  lemmatized_tokens=[lemmatizer.lemmatize(token) for token in filtered_tokens]\n",
        "\n",
        "  preprocess_tweet=' '.join(lemmatized_tokens) #join the tokens back into string\n",
        "\n",
        "  return preprocess_tweet"
      ],
      "metadata": {
        "id": "hhFfTe3sjjFh"
      },
      "execution_count": 6,
      "outputs": []
    },
    {
      "cell_type": "code",
      "source": [
        "#preprocess each tweet in the list\n",
        "twitter_data['preprocessed_tweet']=twitter_data['tweet'].apply(preprocess_tweet)\n",
        "\n",
        "#print out the top 10 preprocessed tweets\n",
        "print(twitter_data.head(10))"
      ],
      "metadata": {
        "id": "6Moa7pWy2IGY",
        "outputId": "0c76b95a-71f2-4b6e-c6c8-c834b98d145d",
        "colab": {
          "base_uri": "https://localhost:8080/"
        }
      },
      "execution_count": 7,
      "outputs": [
        {
          "output_type": "stream",
          "name": "stdout",
          "text": [
            "   id                                              tweet  \\\n",
            "0   1  #fingerprint #Pregnancy Test https://goo.gl/h1...   \n",
            "1   2  Finally a transparant silicon case ^^ Thanks t...   \n",
            "2   3  We love this! Would you go? #talk #makememorie...   \n",
            "3   4  I'm wired I know I'm George I was made that wa...   \n",
            "4   5  What amazing service! Apple won't even talk to...   \n",
            "5   6  iPhone software update fucked up my phone big ...   \n",
            "6   7  Happy for us .. #instapic #instadaily #us #son...   \n",
            "7   8  New Type C charger cable #UK http://www.ebay.c...   \n",
            "8   9  Bout to go shopping again listening to music #...   \n",
            "9  10  Photo: #fun #selfie #pool #water #sony #camera...   \n",
            "\n",
            "                                  preprocessed_tweet  \n",
            "0  fingerprint pregnancy test android apps beauti...  \n",
            "1  finally transparant silicon case thanks uncle ...  \n",
            "2  love would go talk makememories unplug relax i...  \n",
            "3  im wired know im george made way iphone cute d...  \n",
            "4  amazing service apple wont even talk question ...  \n",
            "5  iphone software update fucked phone big time s...  \n",
            "6  happy u instapic instadaily u sony xperia xperiaz  \n",
            "7  new type c charger cable uk bay amazon etsy ne...  \n",
            "8  bout go shopping listening music iphone justme...  \n",
            "9  photo fun selfie pool water sony camera picoft...  \n"
          ]
        }
      ]
    },
    {
      "cell_type": "markdown",
      "source": [
        "Sentiment analysis"
      ],
      "metadata": {
        "id": "fJGZdQRv32zI"
      }
    },
    {
      "cell_type": "code",
      "source": [
        "#define a function to calculate polarity and subjectivity for a given tweet\n",
        "def get_sentiment_scores(tweet):\n",
        "  analysis=TextBlob(tweet)\n",
        "  return analysis.sentiment.polarity, analysis.sentiment.subjectivity\n",
        "\n",
        "#apply the function to each row of the df and store results in two new columns\n",
        "twitter_data['polarity'], twitter_data['subjectivity']=zip(*twitter_data['preprocessed_tweet'].apply(get_sentiment_scores))\n",
        "\n",
        "#print the first 10 rows of the updated df\n",
        "print(twitter_data.head(10))\n",
        "\n",
        "#calculate overall polarity and subjectivity\n",
        "overall_polarity=twitter_data['polarity'].mean()\n",
        "overall_subjectivity=twitter_data['subjectivity'].mean()\n",
        "\n",
        "print(f\"Overall polarity: {overall_polarity}\")\n",
        "print(f\"Overall subjectivity: {overall_subjectivity}\")\n"
      ],
      "metadata": {
        "colab": {
          "base_uri": "https://localhost:8080/"
        },
        "id": "gwMZvOAi36a1",
        "outputId": "eff99700-e42c-4920-8dcf-d819a06a6997"
      },
      "execution_count": 8,
      "outputs": [
        {
          "output_type": "stream",
          "name": "stdout",
          "text": [
            "   id                                              tweet  \\\n",
            "0   1  #fingerprint #Pregnancy Test https://goo.gl/h1...   \n",
            "1   2  Finally a transparant silicon case ^^ Thanks t...   \n",
            "2   3  We love this! Would you go? #talk #makememorie...   \n",
            "3   4  I'm wired I know I'm George I was made that wa...   \n",
            "4   5  What amazing service! Apple won't even talk to...   \n",
            "5   6  iPhone software update fucked up my phone big ...   \n",
            "6   7  Happy for us .. #instapic #instadaily #us #son...   \n",
            "7   8  New Type C charger cable #UK http://www.ebay.c...   \n",
            "8   9  Bout to go shopping again listening to music #...   \n",
            "9  10  Photo: #fun #selfie #pool #water #sony #camera...   \n",
            "\n",
            "                                  preprocessed_tweet  polarity  subjectivity  \n",
            "0  fingerprint pregnancy test android apps beauti...  0.675000      1.000000  \n",
            "1  finally transparant silicon case thanks uncle ...  0.100000      0.600000  \n",
            "2  love would go talk makememories unplug relax i...  0.500000      0.600000  \n",
            "3  im wired know im george made way iphone cute d...  0.500000      1.000000  \n",
            "4  amazing service apple wont even talk question ... -0.100000      0.950000  \n",
            "5  iphone software update fucked phone big time s... -0.466667      0.600000  \n",
            "6  happy u instapic instadaily u sony xperia xperiaz  0.800000      1.000000  \n",
            "7  new type c charger cable uk bay amazon etsy ne...  0.074545      0.281818  \n",
            "8  bout go shopping listening music iphone justme...  0.000000      0.000000  \n",
            "9  photo fun selfie pool water sony camera picoft...  0.400000      0.600000  \n",
            "Overall polarity: 0.1336460259828256\n",
            "Overall subjectivity: 0.42460094857605785\n"
          ]
        }
      ]
    },
    {
      "cell_type": "code",
      "source": [
        "#categorize polairty into positive, negative and neurtal\n",
        "def categorize_polarity (polarity):\n",
        "  if polarity>0:\n",
        "    return 'positive'\n",
        "  elif polarity<0:\n",
        "    return 'negative'\n",
        "  else:\n",
        "    return 'netural'\n",
        "twitter_data['polarity_category']=twitter_data['polarity'].apply(categorize_polarity)\n",
        "\n",
        "#categorize subjectivity into objective and subjective\n",
        "def categorize_subjectivity (subjectivity):\n",
        "  if subjectivity>0.5:\n",
        "    return 'subjective'\n",
        "  else:\n",
        "    return 'objective'\n",
        "twitter_data['subjectivity_category']=twitter_data['subjectivity'].apply(categorize_subjectivity)\n",
        "\n",
        "print(twitter_data.head(10))"
      ],
      "metadata": {
        "id": "LROlx7o5Eaci",
        "outputId": "57000a66-00a3-4ab4-800b-c4503db04a58",
        "colab": {
          "base_uri": "https://localhost:8080/"
        }
      },
      "execution_count": 25,
      "outputs": [
        {
          "output_type": "stream",
          "name": "stdout",
          "text": [
            "   id                                              tweet  \\\n",
            "0   1  #fingerprint #Pregnancy Test https://goo.gl/h1...   \n",
            "1   2  Finally a transparant silicon case ^^ Thanks t...   \n",
            "2   3  We love this! Would you go? #talk #makememorie...   \n",
            "3   4  I'm wired I know I'm George I was made that wa...   \n",
            "4   5  What amazing service! Apple won't even talk to...   \n",
            "5   6  iPhone software update fucked up my phone big ...   \n",
            "6   7  Happy for us .. #instapic #instadaily #us #son...   \n",
            "7   8  New Type C charger cable #UK http://www.ebay.c...   \n",
            "8   9  Bout to go shopping again listening to music #...   \n",
            "9  10  Photo: #fun #selfie #pool #water #sony #camera...   \n",
            "\n",
            "                                  preprocessed_tweet  polarity  subjectivity  \\\n",
            "0  fingerprint pregnancy test android apps beauti...  0.675000      1.000000   \n",
            "1  finally transparant silicon case thanks uncle ...  0.100000      0.600000   \n",
            "2  love would go talk makememories unplug relax i...  0.500000      0.600000   \n",
            "3  im wired know im george made way iphone cute d...  0.500000      1.000000   \n",
            "4  amazing service apple wont even talk question ... -0.100000      0.950000   \n",
            "5  iphone software update fucked phone big time s... -0.466667      0.600000   \n",
            "6  happy u instapic instadaily u sony xperia xperiaz  0.800000      1.000000   \n",
            "7  new type c charger cable uk bay amazon etsy ne...  0.074545      0.281818   \n",
            "8  bout go shopping listening music iphone justme...  0.000000      0.000000   \n",
            "9  photo fun selfie pool water sony camera picoft...  0.400000      0.600000   \n",
            "\n",
            "  polarity_category subjectivity_category  \n",
            "0          positive            subjective  \n",
            "1          positive            subjective  \n",
            "2          positive            subjective  \n",
            "3          positive            subjective  \n",
            "4          negative            subjective  \n",
            "5          negative            subjective  \n",
            "6          positive            subjective  \n",
            "7          positive             objective  \n",
            "8           netural             objective  \n",
            "9          positive            subjective  \n"
          ]
        }
      ]
    },
    {
      "cell_type": "code",
      "source": [
        "# Count the occurrences of each unique value in 'polarity' and 'subjectivity'\n",
        "polarity_counts = twitter_data['polarity_category'].value_counts()\n",
        "subjectivity_counts = twitter_data['subjectivity_category'].value_counts()\n",
        "\n",
        "# Plotting the bar graph for polarity\n",
        "plt.figure(figsize=(10, 5))\n",
        "plt.subplot(1, 2, 1)  # Creating a subplot for polarity\n",
        "plt.bar(polarity_counts.index, polarity_counts.values, color='skyblue')\n",
        "plt.xlabel('Polarity')\n",
        "plt.ylabel('Count')\n",
        "plt.title('Polarity Distribution')\n",
        "\n",
        "# Plotting the bar graph for subjectivity\n",
        "plt.subplot(1, 2, 2)  # Creating a subplot for subjectivity\n",
        "plt.bar(subjectivity_counts.index, subjectivity_counts.values, color='orange')\n",
        "plt.xlabel('Subjectivity')\n",
        "plt.ylabel('Count')\n",
        "plt.title('Subjectivity Distribution')\n",
        "\n",
        "plt.tight_layout()  # Ensures proper spacing between subplots\n",
        "plt.show()\n"
      ],
      "metadata": {
        "id": "a7ypq-qRGhYN",
        "outputId": "e45187f7-b920-4d9f-94b9-94ab51ce8730",
        "colab": {
          "base_uri": "https://localhost:8080/",
          "height": 507
        }
      },
      "execution_count": 26,
      "outputs": [
        {
          "output_type": "display_data",
          "data": {
            "text/plain": [
              "<Figure size 1000x500 with 2 Axes>"
            ],
            "image/png": "[encoded data removed]"
          },
          "metadata": {}
        }
      ]
    }
  ]
}